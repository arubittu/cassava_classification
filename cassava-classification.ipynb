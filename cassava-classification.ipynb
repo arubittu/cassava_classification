{
 "cells": [
  {
   "cell_type": "code",
   "execution_count": 1,
   "id": "israeli-comparative",
   "metadata": {
    "_cell_guid": "b1076dfc-b9ad-4769-8c92-a6c4dae69d19",
    "_uuid": "8f2839f25d086af736a60e9eeb907d3b93b6e0e5",
    "execution": {
     "iopub.execute_input": "2021-05-30T10:50:49.468014Z",
     "iopub.status.busy": "2021-05-30T10:50:49.467453Z",
     "iopub.status.idle": "2021-05-30T10:51:06.591945Z",
     "shell.execute_reply": "2021-05-30T10:51:06.591384Z",
     "shell.execute_reply.started": "2021-05-30T08:46:02.106608Z"
    },
    "papermill": {
     "duration": 17.148379,
     "end_time": "2021-05-30T10:51:06.592093",
     "exception": false,
     "start_time": "2021-05-30T10:50:49.443714",
     "status": "completed"
    },
    "tags": []
   },
   "outputs": [],
   "source": [
    "# This Python 3 environment comes with many helpful analytics libraries installed\n",
    "# It is defined by the kaggle/python Docker image: https://github.com/kaggle/docker-python\n",
    "# For example, here's several helpful packages to load\n",
    "\n",
    "import numpy as np # linear algebra\n",
    "import pandas as pd # data processing, CSV file I/O (e.g. pd.read_csv)\n",
    "\n",
    "# Input data files are available in the read-only \"../input/\" directory\n",
    "# For example, running this (by clicking run or pressing Shift+Enter) will list all files under the input directory\n",
    "\n",
    "import os\n",
    "for dirname, _, filenames in os.walk('/kaggle/input'):\n",
    "    for filename in filenames:\n",
    "        #print(os.path.join(dirname, filename))\n",
    "        pass\n",
    "# You can write up to 20GB to the current directory (/kaggle/working/) that gets preserved as output when you create a version using \"Save & Run All\" \n",
    "# You can also write temporary files to /kaggle/temp/, but they won't be saved outside of the current session"
   ]
  },
  {
   "cell_type": "code",
   "execution_count": 2,
   "id": "proprietary-popularity",
   "metadata": {
    "execution": {
     "iopub.execute_input": "2021-05-30T10:51:06.623645Z",
     "iopub.status.busy": "2021-05-30T10:51:06.622970Z",
     "iopub.status.idle": "2021-05-30T10:51:08.007875Z",
     "shell.execute_reply": "2021-05-30T10:51:08.007060Z",
     "shell.execute_reply.started": "2021-05-30T08:46:15.980616Z"
    },
    "papermill": {
     "duration": 1.402993,
     "end_time": "2021-05-30T10:51:08.008005",
     "exception": false,
     "start_time": "2021-05-30T10:51:06.605012",
     "status": "completed"
    },
    "tags": []
   },
   "outputs": [],
   "source": [
    "# make the necessary imports \n",
    "import torch\n",
    "from torch.utils.data import Dataset, random_split\n",
    "from torchvision import datasets,models\n",
    "import torchvision\n",
    "import torch.nn as nn\n",
    "from torchvision.transforms import ToTensor,Compose,RandomCrop,Resize,ToPILImage,RandomResizedCrop,RandomHorizontalFlip,Normalize,ConvertImageDtype\n",
    "import matplotlib.pyplot as plt\n",
    "from torchvision.io import read_image\n",
    "from torch.utils.data import DataLoader\n",
    "\n",
    "import torch.autograd as autograd         # computation graph\n",
    "from torch import Tensor                  # tensor node in the computation graph\n",
    "import torch.nn as nn                     # neural networks\n",
    "import torch.nn.functional as F           # layers, activations and more\n",
    "import torch.optim as optim\n",
    "device = torch.device(\"cuda:0\" if torch.cuda.is_available() else \"cpu\")"
   ]
  },
  {
   "cell_type": "code",
   "execution_count": 3,
   "id": "purple-salvation",
   "metadata": {
    "execution": {
     "iopub.execute_input": "2021-05-30T10:51:08.043310Z",
     "iopub.status.busy": "2021-05-30T10:51:08.042519Z",
     "iopub.status.idle": "2021-05-30T10:51:08.044945Z",
     "shell.execute_reply": "2021-05-30T10:51:08.044554Z",
     "shell.execute_reply.started": "2021-05-30T08:46:17.305595Z"
    },
    "papermill": {
     "duration": 0.023281,
     "end_time": "2021-05-30T10:51:08.045050",
     "exception": false,
     "start_time": "2021-05-30T10:51:08.021769",
     "status": "completed"
    },
    "tags": []
   },
   "outputs": [],
   "source": [
    "# to add - transforms - resized to 256,256\n",
    "# generate dataset class for our custom dataset\n",
    "class CustomImageDataset(Dataset):\n",
    "    def __init__(self, annotations_file, img_dir, transform=Compose([Resize((256,256)),RandomResizedCrop(224),ConvertImageDtype(dtype=torch.float),Normalize([0.485, 0.456, 0.406], [0.229, 0.224, 0.225])\n",
    "]), target_transform=None):\n",
    "        self.img_labels = pd.read_csv(annotations_file)\n",
    "        self.img_dir = img_dir\n",
    "        self.transform = transform\n",
    "        self.target_transform = target_transform\n",
    "\n",
    "    def __len__(self):\n",
    "        return len(self.img_labels)\n",
    "\n",
    "    def __getitem__(self, idx):\n",
    "        img_path = os.path.join(self.img_dir, self.img_labels.iloc[idx, 0])\n",
    "        image = read_image(img_path)\n",
    "        label = self.img_labels.iloc[idx, 1]\n",
    "        if self.transform:\n",
    "            image = self.transform(image)\n",
    "        if self.target_transform:\n",
    "            label = self.target_transform(label)\n",
    "        sample = {\"image\": image, \"label\": label}\n",
    "        return image,label\n"
   ]
  },
  {
   "cell_type": "code",
   "execution_count": 4,
   "id": "needed-surgeon",
   "metadata": {
    "execution": {
     "iopub.execute_input": "2021-05-30T10:51:08.074838Z",
     "iopub.status.busy": "2021-05-30T10:51:08.074312Z",
     "iopub.status.idle": "2021-05-30T10:51:08.259723Z",
     "shell.execute_reply": "2021-05-30T10:51:08.258839Z",
     "shell.execute_reply.started": "2021-05-30T08:46:17.318846Z"
    },
    "papermill": {
     "duration": 0.201871,
     "end_time": "2021-05-30T10:51:08.259877",
     "exception": false,
     "start_time": "2021-05-30T10:51:08.058006",
     "status": "completed"
    },
    "tags": []
   },
   "outputs": [
    {
     "name": "stdout",
     "output_type": "stream",
     "text": [
      "21397\n",
      "(tensor([[[ 2.0605,  2.0777,  2.1119,  ..., -0.1999, -0.8678, -1.1589],\n",
      "         [ 2.0777,  2.0948,  2.1290,  ..., -0.1657, -0.6794, -0.9020],\n",
      "         [ 2.1290,  2.1290,  2.1462,  ..., -0.1143, -0.2342, -0.3027],\n",
      "         ...,\n",
      "         [ 1.7009,  1.7009,  1.6838,  ...,  0.6563,  0.6049,  0.5878],\n",
      "         [ 2.0434,  1.9064,  1.5810,  ...,  0.6906,  0.6563,  0.6392],\n",
      "         [ 2.1975,  1.9920,  1.5297,  ...,  0.6906,  0.6563,  0.6563]],\n",
      "\n",
      "        [[ 2.2710,  2.2885,  2.3410,  ...,  0.3978, -0.1450, -0.3901],\n",
      "         [ 2.2885,  2.3060,  2.3410,  ...,  0.4678,  0.0826, -0.0924],\n",
      "         [ 2.3235,  2.3410,  2.3761,  ...,  0.6078,  0.6078,  0.6078],\n",
      "         ...,\n",
      "         [ 0.7479,  0.8704,  1.1331,  ...,  1.5357,  1.5182,  1.5007],\n",
      "         [ 1.2031,  1.2206,  1.2381,  ...,  1.6408,  1.6408,  1.6232],\n",
      "         [ 1.4132,  1.3606,  1.2906,  ...,  1.6933,  1.6933,  1.6758]],\n",
      "\n",
      "        [[ 0.7402,  0.7576,  0.7925,  ..., -1.7347, -1.7870, -1.8044],\n",
      "         [ 0.8099,  0.8274,  0.8622,  ..., -1.6476, -1.6650, -1.6824],\n",
      "         [ 1.0017,  1.0191,  1.0539,  ..., -1.4210, -1.3861, -1.3687],\n",
      "         ...,\n",
      "         [ 0.5485,  0.5485,  0.5659,  ...,  0.8448,  0.7751,  0.7402],\n",
      "         [ 1.0888,  0.9668,  0.7054,  ...,  0.7576,  0.7054,  0.6705],\n",
      "         [ 1.3154,  1.1411,  0.7751,  ...,  0.7228,  0.6705,  0.6531]]]), 3)\n"
     ]
    }
   ],
   "source": [
    "dataset=CustomImageDataset('../input/cassava-leaf-disease-classification/train.csv','../input/cassava-leaf-disease-classification/train_images')\n",
    "print(len(dataset))\n",
    "print(dataset[64])"
   ]
  },
  {
   "cell_type": "code",
   "execution_count": 5,
   "id": "stuck-relationship",
   "metadata": {
    "execution": {
     "iopub.execute_input": "2021-05-30T10:51:08.292153Z",
     "iopub.status.busy": "2021-05-30T10:51:08.291403Z",
     "iopub.status.idle": "2021-05-30T10:51:08.296085Z",
     "shell.execute_reply": "2021-05-30T10:51:08.295693Z",
     "shell.execute_reply.started": "2021-05-30T08:46:17.489276Z"
    },
    "papermill": {
     "duration": 0.022814,
     "end_time": "2021-05-30T10:51:08.296207",
     "exception": false,
     "start_time": "2021-05-30T10:51:08.273393",
     "status": "completed"
    },
    "tags": []
   },
   "outputs": [],
   "source": [
    "# split into training and testing sets\n",
    "train_data,test_data=random_split(dataset, [int(9*len(dataset)/10),int(1*len(dataset)/10)+1 ], generator=torch.Generator().manual_seed(42))\n",
    "\n",
    "# insert into dataloaders \n",
    "# since number of classes are 5 , we will keep batch size 16\n",
    "train_dataloader=DataLoader(dataset=train_data,batch_size=16,shuffle=True)\n",
    "test_dataloader=DataLoader(dataset=test_data,batch_size=16,shuffle=True)"
   ]
  },
  {
   "cell_type": "code",
   "execution_count": 6,
   "id": "heard-conference",
   "metadata": {
    "execution": {
     "iopub.execute_input": "2021-05-30T10:51:08.327924Z",
     "iopub.status.busy": "2021-05-30T10:51:08.327351Z",
     "iopub.status.idle": "2021-05-30T10:51:28.491294Z",
     "shell.execute_reply": "2021-05-30T10:51:28.491965Z",
     "shell.execute_reply.started": "2021-05-30T08:46:17.500113Z"
    },
    "papermill": {
     "duration": 20.183219,
     "end_time": "2021-05-30T10:51:28.492145",
     "exception": false,
     "start_time": "2021-05-30T10:51:08.308926",
     "status": "completed"
    },
    "tags": []
   },
   "outputs": [
    {
     "name": "stderr",
     "output_type": "stream",
     "text": [
      "Downloading: \"https://download.pytorch.org/models/shufflenetv2_x0.5-f707e7126e.pth\" to /root/.cache/torch/hub/checkpoints/shufflenetv2_x0.5-f707e7126e.pth\n"
     ]
    },
    {
     "ename": "URLError",
     "evalue": "<urlopen error [Errno -3] Temporary failure in name resolution>",
     "output_type": "error",
     "traceback": [
      "\u001b[0;31m---------------------------------------------------------------------------\u001b[0m",
      "\u001b[0;31mgaierror\u001b[0m                                  Traceback (most recent call last)",
      "\u001b[0;32m/opt/conda/lib/python3.7/urllib/request.py\u001b[0m in \u001b[0;36mdo_open\u001b[0;34m(self, http_class, req, **http_conn_args)\u001b[0m\n\u001b[1;32m   1349\u001b[0m                 h.request(req.get_method(), req.selector, req.data, headers,\n\u001b[0;32m-> 1350\u001b[0;31m                           encode_chunked=req.has_header('Transfer-encoding'))\n\u001b[0m\u001b[1;32m   1351\u001b[0m             \u001b[0;32mexcept\u001b[0m \u001b[0mOSError\u001b[0m \u001b[0;32mas\u001b[0m \u001b[0merr\u001b[0m\u001b[0;34m:\u001b[0m \u001b[0;31m# timeout error\u001b[0m\u001b[0;34m\u001b[0m\u001b[0;34m\u001b[0m\u001b[0m\n",
      "\u001b[0;32m/opt/conda/lib/python3.7/http/client.py\u001b[0m in \u001b[0;36mrequest\u001b[0;34m(self, method, url, body, headers, encode_chunked)\u001b[0m\n\u001b[1;32m   1276\u001b[0m         \u001b[0;34m\"\"\"Send a complete request to the server.\"\"\"\u001b[0m\u001b[0;34m\u001b[0m\u001b[0;34m\u001b[0m\u001b[0m\n\u001b[0;32m-> 1277\u001b[0;31m         \u001b[0mself\u001b[0m\u001b[0;34m.\u001b[0m\u001b[0m_send_request\u001b[0m\u001b[0;34m(\u001b[0m\u001b[0mmethod\u001b[0m\u001b[0;34m,\u001b[0m \u001b[0murl\u001b[0m\u001b[0;34m,\u001b[0m \u001b[0mbody\u001b[0m\u001b[0;34m,\u001b[0m \u001b[0mheaders\u001b[0m\u001b[0;34m,\u001b[0m \u001b[0mencode_chunked\u001b[0m\u001b[0;34m)\u001b[0m\u001b[0;34m\u001b[0m\u001b[0;34m\u001b[0m\u001b[0m\n\u001b[0m\u001b[1;32m   1278\u001b[0m \u001b[0;34m\u001b[0m\u001b[0m\n",
      "\u001b[0;32m/opt/conda/lib/python3.7/http/client.py\u001b[0m in \u001b[0;36m_send_request\u001b[0;34m(self, method, url, body, headers, encode_chunked)\u001b[0m\n\u001b[1;32m   1322\u001b[0m             \u001b[0mbody\u001b[0m \u001b[0;34m=\u001b[0m \u001b[0m_encode\u001b[0m\u001b[0;34m(\u001b[0m\u001b[0mbody\u001b[0m\u001b[0;34m,\u001b[0m \u001b[0;34m'body'\u001b[0m\u001b[0;34m)\u001b[0m\u001b[0;34m\u001b[0m\u001b[0;34m\u001b[0m\u001b[0m\n\u001b[0;32m-> 1323\u001b[0;31m         \u001b[0mself\u001b[0m\u001b[0;34m.\u001b[0m\u001b[0mendheaders\u001b[0m\u001b[0;34m(\u001b[0m\u001b[0mbody\u001b[0m\u001b[0;34m,\u001b[0m \u001b[0mencode_chunked\u001b[0m\u001b[0;34m=\u001b[0m\u001b[0mencode_chunked\u001b[0m\u001b[0;34m)\u001b[0m\u001b[0;34m\u001b[0m\u001b[0;34m\u001b[0m\u001b[0m\n\u001b[0m\u001b[1;32m   1324\u001b[0m \u001b[0;34m\u001b[0m\u001b[0m\n",
      "\u001b[0;32m/opt/conda/lib/python3.7/http/client.py\u001b[0m in \u001b[0;36mendheaders\u001b[0;34m(self, message_body, encode_chunked)\u001b[0m\n\u001b[1;32m   1271\u001b[0m             \u001b[0;32mraise\u001b[0m \u001b[0mCannotSendHeader\u001b[0m\u001b[0;34m(\u001b[0m\u001b[0;34m)\u001b[0m\u001b[0;34m\u001b[0m\u001b[0;34m\u001b[0m\u001b[0m\n\u001b[0;32m-> 1272\u001b[0;31m         \u001b[0mself\u001b[0m\u001b[0;34m.\u001b[0m\u001b[0m_send_output\u001b[0m\u001b[0;34m(\u001b[0m\u001b[0mmessage_body\u001b[0m\u001b[0;34m,\u001b[0m \u001b[0mencode_chunked\u001b[0m\u001b[0;34m=\u001b[0m\u001b[0mencode_chunked\u001b[0m\u001b[0;34m)\u001b[0m\u001b[0;34m\u001b[0m\u001b[0;34m\u001b[0m\u001b[0m\n\u001b[0m\u001b[1;32m   1273\u001b[0m \u001b[0;34m\u001b[0m\u001b[0m\n",
      "\u001b[0;32m/opt/conda/lib/python3.7/http/client.py\u001b[0m in \u001b[0;36m_send_output\u001b[0;34m(self, message_body, encode_chunked)\u001b[0m\n\u001b[1;32m   1031\u001b[0m         \u001b[0;32mdel\u001b[0m \u001b[0mself\u001b[0m\u001b[0;34m.\u001b[0m\u001b[0m_buffer\u001b[0m\u001b[0;34m[\u001b[0m\u001b[0;34m:\u001b[0m\u001b[0;34m]\u001b[0m\u001b[0;34m\u001b[0m\u001b[0;34m\u001b[0m\u001b[0m\n\u001b[0;32m-> 1032\u001b[0;31m         \u001b[0mself\u001b[0m\u001b[0;34m.\u001b[0m\u001b[0msend\u001b[0m\u001b[0;34m(\u001b[0m\u001b[0mmsg\u001b[0m\u001b[0;34m)\u001b[0m\u001b[0;34m\u001b[0m\u001b[0;34m\u001b[0m\u001b[0m\n\u001b[0m\u001b[1;32m   1033\u001b[0m \u001b[0;34m\u001b[0m\u001b[0m\n",
      "\u001b[0;32m/opt/conda/lib/python3.7/http/client.py\u001b[0m in \u001b[0;36msend\u001b[0;34m(self, data)\u001b[0m\n\u001b[1;32m    971\u001b[0m             \u001b[0;32mif\u001b[0m \u001b[0mself\u001b[0m\u001b[0;34m.\u001b[0m\u001b[0mauto_open\u001b[0m\u001b[0;34m:\u001b[0m\u001b[0;34m\u001b[0m\u001b[0;34m\u001b[0m\u001b[0m\n\u001b[0;32m--> 972\u001b[0;31m                 \u001b[0mself\u001b[0m\u001b[0;34m.\u001b[0m\u001b[0mconnect\u001b[0m\u001b[0;34m(\u001b[0m\u001b[0;34m)\u001b[0m\u001b[0;34m\u001b[0m\u001b[0;34m\u001b[0m\u001b[0m\n\u001b[0m\u001b[1;32m    973\u001b[0m             \u001b[0;32melse\u001b[0m\u001b[0;34m:\u001b[0m\u001b[0;34m\u001b[0m\u001b[0;34m\u001b[0m\u001b[0m\n",
      "\u001b[0;32m/opt/conda/lib/python3.7/http/client.py\u001b[0m in \u001b[0;36mconnect\u001b[0;34m(self)\u001b[0m\n\u001b[1;32m   1438\u001b[0m \u001b[0;34m\u001b[0m\u001b[0m\n\u001b[0;32m-> 1439\u001b[0;31m             \u001b[0msuper\u001b[0m\u001b[0;34m(\u001b[0m\u001b[0;34m)\u001b[0m\u001b[0;34m.\u001b[0m\u001b[0mconnect\u001b[0m\u001b[0;34m(\u001b[0m\u001b[0;34m)\u001b[0m\u001b[0;34m\u001b[0m\u001b[0;34m\u001b[0m\u001b[0m\n\u001b[0m\u001b[1;32m   1440\u001b[0m \u001b[0;34m\u001b[0m\u001b[0m\n",
      "\u001b[0;32m/opt/conda/lib/python3.7/http/client.py\u001b[0m in \u001b[0;36mconnect\u001b[0;34m(self)\u001b[0m\n\u001b[1;32m    943\u001b[0m         self.sock = self._create_connection(\n\u001b[0;32m--> 944\u001b[0;31m             (self.host,self.port), self.timeout, self.source_address)\n\u001b[0m\u001b[1;32m    945\u001b[0m         \u001b[0mself\u001b[0m\u001b[0;34m.\u001b[0m\u001b[0msock\u001b[0m\u001b[0;34m.\u001b[0m\u001b[0msetsockopt\u001b[0m\u001b[0;34m(\u001b[0m\u001b[0msocket\u001b[0m\u001b[0;34m.\u001b[0m\u001b[0mIPPROTO_TCP\u001b[0m\u001b[0;34m,\u001b[0m \u001b[0msocket\u001b[0m\u001b[0;34m.\u001b[0m\u001b[0mTCP_NODELAY\u001b[0m\u001b[0;34m,\u001b[0m \u001b[0;36m1\u001b[0m\u001b[0;34m)\u001b[0m\u001b[0;34m\u001b[0m\u001b[0;34m\u001b[0m\u001b[0m\n",
      "\u001b[0;32m/opt/conda/lib/python3.7/socket.py\u001b[0m in \u001b[0;36mcreate_connection\u001b[0;34m(address, timeout, source_address)\u001b[0m\n\u001b[1;32m    706\u001b[0m     \u001b[0merr\u001b[0m \u001b[0;34m=\u001b[0m \u001b[0;32mNone\u001b[0m\u001b[0;34m\u001b[0m\u001b[0;34m\u001b[0m\u001b[0m\n\u001b[0;32m--> 707\u001b[0;31m     \u001b[0;32mfor\u001b[0m \u001b[0mres\u001b[0m \u001b[0;32min\u001b[0m \u001b[0mgetaddrinfo\u001b[0m\u001b[0;34m(\u001b[0m\u001b[0mhost\u001b[0m\u001b[0;34m,\u001b[0m \u001b[0mport\u001b[0m\u001b[0;34m,\u001b[0m \u001b[0;36m0\u001b[0m\u001b[0;34m,\u001b[0m \u001b[0mSOCK_STREAM\u001b[0m\u001b[0;34m)\u001b[0m\u001b[0;34m:\u001b[0m\u001b[0;34m\u001b[0m\u001b[0;34m\u001b[0m\u001b[0m\n\u001b[0m\u001b[1;32m    708\u001b[0m         \u001b[0maf\u001b[0m\u001b[0;34m,\u001b[0m \u001b[0msocktype\u001b[0m\u001b[0;34m,\u001b[0m \u001b[0mproto\u001b[0m\u001b[0;34m,\u001b[0m \u001b[0mcanonname\u001b[0m\u001b[0;34m,\u001b[0m \u001b[0msa\u001b[0m \u001b[0;34m=\u001b[0m \u001b[0mres\u001b[0m\u001b[0;34m\u001b[0m\u001b[0;34m\u001b[0m\u001b[0m\n",
      "\u001b[0;32m/opt/conda/lib/python3.7/socket.py\u001b[0m in \u001b[0;36mgetaddrinfo\u001b[0;34m(host, port, family, type, proto, flags)\u001b[0m\n\u001b[1;32m    751\u001b[0m     \u001b[0maddrlist\u001b[0m \u001b[0;34m=\u001b[0m \u001b[0;34m[\u001b[0m\u001b[0;34m]\u001b[0m\u001b[0;34m\u001b[0m\u001b[0;34m\u001b[0m\u001b[0m\n\u001b[0;32m--> 752\u001b[0;31m     \u001b[0;32mfor\u001b[0m \u001b[0mres\u001b[0m \u001b[0;32min\u001b[0m \u001b[0m_socket\u001b[0m\u001b[0;34m.\u001b[0m\u001b[0mgetaddrinfo\u001b[0m\u001b[0;34m(\u001b[0m\u001b[0mhost\u001b[0m\u001b[0;34m,\u001b[0m \u001b[0mport\u001b[0m\u001b[0;34m,\u001b[0m \u001b[0mfamily\u001b[0m\u001b[0;34m,\u001b[0m \u001b[0mtype\u001b[0m\u001b[0;34m,\u001b[0m \u001b[0mproto\u001b[0m\u001b[0;34m,\u001b[0m \u001b[0mflags\u001b[0m\u001b[0;34m)\u001b[0m\u001b[0;34m:\u001b[0m\u001b[0;34m\u001b[0m\u001b[0;34m\u001b[0m\u001b[0m\n\u001b[0m\u001b[1;32m    753\u001b[0m         \u001b[0maf\u001b[0m\u001b[0;34m,\u001b[0m \u001b[0msocktype\u001b[0m\u001b[0;34m,\u001b[0m \u001b[0mproto\u001b[0m\u001b[0;34m,\u001b[0m \u001b[0mcanonname\u001b[0m\u001b[0;34m,\u001b[0m \u001b[0msa\u001b[0m \u001b[0;34m=\u001b[0m \u001b[0mres\u001b[0m\u001b[0;34m\u001b[0m\u001b[0;34m\u001b[0m\u001b[0m\n",
      "\u001b[0;31mgaierror\u001b[0m: [Errno -3] Temporary failure in name resolution",
      "\nDuring handling of the above exception, another exception occurred:\n",
      "\u001b[0;31mURLError\u001b[0m                                  Traceback (most recent call last)",
      "\u001b[0;32m<ipython-input-6-469fdbc17a9f>\u001b[0m in \u001b[0;36m<module>\u001b[0;34m\u001b[0m\n\u001b[1;32m      1\u001b[0m \u001b[0;31m# import models for ensembling\u001b[0m\u001b[0;34m\u001b[0m\u001b[0;34m\u001b[0m\u001b[0;34m\u001b[0m\u001b[0m\n\u001b[1;32m      2\u001b[0m \u001b[0mnum_models\u001b[0m\u001b[0;34m=\u001b[0m\u001b[0;36m3\u001b[0m \u001b[0;31m# i plan to do 2 of each type resnet, MobileNet V2,VGG-19 with batch normalization\u001b[0m\u001b[0;34m\u001b[0m\u001b[0;34m\u001b[0m\u001b[0m\n\u001b[0;32m----> 3\u001b[0;31m \u001b[0mmodels_list\u001b[0m\u001b[0;34m=\u001b[0m\u001b[0;34m[\u001b[0m\u001b[0mmodels\u001b[0m\u001b[0;34m.\u001b[0m\u001b[0mshufflenet_v2_x0_5\u001b[0m\u001b[0;34m(\u001b[0m\u001b[0mpretrained\u001b[0m\u001b[0;34m=\u001b[0m\u001b[0;32mTrue\u001b[0m\u001b[0;34m)\u001b[0m\u001b[0;34m,\u001b[0m\u001b[0mmodels\u001b[0m\u001b[0;34m.\u001b[0m\u001b[0mresnet18\u001b[0m\u001b[0;34m(\u001b[0m\u001b[0mpretrained\u001b[0m\u001b[0;34m=\u001b[0m\u001b[0;32mTrue\u001b[0m\u001b[0;34m)\u001b[0m\u001b[0;34m,\u001b[0m\u001b[0mmodels\u001b[0m\u001b[0;34m.\u001b[0m\u001b[0mgooglenet\u001b[0m\u001b[0;34m(\u001b[0m\u001b[0mpretrained\u001b[0m\u001b[0;34m=\u001b[0m\u001b[0;32mTrue\u001b[0m\u001b[0;34m)\u001b[0m\u001b[0;34m]\u001b[0m\u001b[0;34m\u001b[0m\u001b[0;34m\u001b[0m\u001b[0m\n\u001b[0m\u001b[1;32m      4\u001b[0m \u001b[0mmodels_list\u001b[0m\u001b[0;34m=\u001b[0m\u001b[0mmodels_list\u001b[0m\u001b[0;34m\u001b[0m\u001b[0;34m\u001b[0m\u001b[0m\n",
      "\u001b[0;32m/opt/conda/lib/python3.7/site-packages/torchvision/models/shufflenetv2.py\u001b[0m in \u001b[0;36mshufflenet_v2_x0_5\u001b[0;34m(pretrained, progress, **kwargs)\u001b[0m\n\u001b[1;32m    164\u001b[0m     \"\"\"\n\u001b[1;32m    165\u001b[0m     return _shufflenetv2('shufflenetv2_x0.5', pretrained, progress,\n\u001b[0;32m--> 166\u001b[0;31m                          [4, 8, 4], [24, 48, 96, 192, 1024], **kwargs)\n\u001b[0m\u001b[1;32m    167\u001b[0m \u001b[0;34m\u001b[0m\u001b[0m\n\u001b[1;32m    168\u001b[0m \u001b[0;34m\u001b[0m\u001b[0m\n",
      "\u001b[0;32m/opt/conda/lib/python3.7/site-packages/torchvision/models/shufflenetv2.py\u001b[0m in \u001b[0;36m_shufflenetv2\u001b[0;34m(arch, pretrained, progress, *args, **kwargs)\u001b[0m\n\u001b[1;32m    147\u001b[0m             \u001b[0;32mraise\u001b[0m \u001b[0mNotImplementedError\u001b[0m\u001b[0;34m(\u001b[0m\u001b[0;34m'pretrained {} is not supported as of now'\u001b[0m\u001b[0;34m.\u001b[0m\u001b[0mformat\u001b[0m\u001b[0;34m(\u001b[0m\u001b[0march\u001b[0m\u001b[0;34m)\u001b[0m\u001b[0;34m)\u001b[0m\u001b[0;34m\u001b[0m\u001b[0;34m\u001b[0m\u001b[0m\n\u001b[1;32m    148\u001b[0m         \u001b[0;32melse\u001b[0m\u001b[0;34m:\u001b[0m\u001b[0;34m\u001b[0m\u001b[0;34m\u001b[0m\u001b[0m\n\u001b[0;32m--> 149\u001b[0;31m             \u001b[0mstate_dict\u001b[0m \u001b[0;34m=\u001b[0m \u001b[0mload_state_dict_from_url\u001b[0m\u001b[0;34m(\u001b[0m\u001b[0mmodel_url\u001b[0m\u001b[0;34m,\u001b[0m \u001b[0mprogress\u001b[0m\u001b[0;34m=\u001b[0m\u001b[0mprogress\u001b[0m\u001b[0;34m)\u001b[0m\u001b[0;34m\u001b[0m\u001b[0;34m\u001b[0m\u001b[0m\n\u001b[0m\u001b[1;32m    150\u001b[0m             \u001b[0mmodel\u001b[0m\u001b[0;34m.\u001b[0m\u001b[0mload_state_dict\u001b[0m\u001b[0;34m(\u001b[0m\u001b[0mstate_dict\u001b[0m\u001b[0;34m)\u001b[0m\u001b[0;34m\u001b[0m\u001b[0;34m\u001b[0m\u001b[0m\n\u001b[1;32m    151\u001b[0m \u001b[0;34m\u001b[0m\u001b[0m\n",
      "\u001b[0;32m/opt/conda/lib/python3.7/site-packages/torch/hub.py\u001b[0m in \u001b[0;36mload_state_dict_from_url\u001b[0;34m(url, model_dir, map_location, progress, check_hash, file_name)\u001b[0m\n\u001b[1;32m    553\u001b[0m             \u001b[0mr\u001b[0m \u001b[0;34m=\u001b[0m \u001b[0mHASH_REGEX\u001b[0m\u001b[0;34m.\u001b[0m\u001b[0msearch\u001b[0m\u001b[0;34m(\u001b[0m\u001b[0mfilename\u001b[0m\u001b[0;34m)\u001b[0m  \u001b[0;31m# r is Optional[Match[str]]\u001b[0m\u001b[0;34m\u001b[0m\u001b[0;34m\u001b[0m\u001b[0m\n\u001b[1;32m    554\u001b[0m             \u001b[0mhash_prefix\u001b[0m \u001b[0;34m=\u001b[0m \u001b[0mr\u001b[0m\u001b[0;34m.\u001b[0m\u001b[0mgroup\u001b[0m\u001b[0;34m(\u001b[0m\u001b[0;36m1\u001b[0m\u001b[0;34m)\u001b[0m \u001b[0;32mif\u001b[0m \u001b[0mr\u001b[0m \u001b[0;32melse\u001b[0m \u001b[0;32mNone\u001b[0m\u001b[0;34m\u001b[0m\u001b[0;34m\u001b[0m\u001b[0m\n\u001b[0;32m--> 555\u001b[0;31m         \u001b[0mdownload_url_to_file\u001b[0m\u001b[0;34m(\u001b[0m\u001b[0murl\u001b[0m\u001b[0;34m,\u001b[0m \u001b[0mcached_file\u001b[0m\u001b[0;34m,\u001b[0m \u001b[0mhash_prefix\u001b[0m\u001b[0;34m,\u001b[0m \u001b[0mprogress\u001b[0m\u001b[0;34m=\u001b[0m\u001b[0mprogress\u001b[0m\u001b[0;34m)\u001b[0m\u001b[0;34m\u001b[0m\u001b[0;34m\u001b[0m\u001b[0m\n\u001b[0m\u001b[1;32m    556\u001b[0m \u001b[0;34m\u001b[0m\u001b[0m\n\u001b[1;32m    557\u001b[0m     \u001b[0;32mif\u001b[0m \u001b[0m_is_legacy_zip_format\u001b[0m\u001b[0;34m(\u001b[0m\u001b[0mcached_file\u001b[0m\u001b[0;34m)\u001b[0m\u001b[0;34m:\u001b[0m\u001b[0;34m\u001b[0m\u001b[0;34m\u001b[0m\u001b[0m\n",
      "\u001b[0;32m/opt/conda/lib/python3.7/site-packages/torch/hub.py\u001b[0m in \u001b[0;36mdownload_url_to_file\u001b[0;34m(url, dst, hash_prefix, progress)\u001b[0m\n\u001b[1;32m    423\u001b[0m     \u001b[0;31m# certificates in older Python\u001b[0m\u001b[0;34m\u001b[0m\u001b[0;34m\u001b[0m\u001b[0;34m\u001b[0m\u001b[0m\n\u001b[1;32m    424\u001b[0m     \u001b[0mreq\u001b[0m \u001b[0;34m=\u001b[0m \u001b[0mRequest\u001b[0m\u001b[0;34m(\u001b[0m\u001b[0murl\u001b[0m\u001b[0;34m,\u001b[0m \u001b[0mheaders\u001b[0m\u001b[0;34m=\u001b[0m\u001b[0;34m{\u001b[0m\u001b[0;34m\"User-Agent\"\u001b[0m\u001b[0;34m:\u001b[0m \u001b[0;34m\"torch.hub\"\u001b[0m\u001b[0;34m}\u001b[0m\u001b[0;34m)\u001b[0m\u001b[0;34m\u001b[0m\u001b[0;34m\u001b[0m\u001b[0m\n\u001b[0;32m--> 425\u001b[0;31m     \u001b[0mu\u001b[0m \u001b[0;34m=\u001b[0m \u001b[0murlopen\u001b[0m\u001b[0;34m(\u001b[0m\u001b[0mreq\u001b[0m\u001b[0;34m)\u001b[0m\u001b[0;34m\u001b[0m\u001b[0;34m\u001b[0m\u001b[0m\n\u001b[0m\u001b[1;32m    426\u001b[0m     \u001b[0mmeta\u001b[0m \u001b[0;34m=\u001b[0m \u001b[0mu\u001b[0m\u001b[0;34m.\u001b[0m\u001b[0minfo\u001b[0m\u001b[0;34m(\u001b[0m\u001b[0;34m)\u001b[0m\u001b[0;34m\u001b[0m\u001b[0;34m\u001b[0m\u001b[0m\n\u001b[1;32m    427\u001b[0m     \u001b[0;32mif\u001b[0m \u001b[0mhasattr\u001b[0m\u001b[0;34m(\u001b[0m\u001b[0mmeta\u001b[0m\u001b[0;34m,\u001b[0m \u001b[0;34m'getheaders'\u001b[0m\u001b[0;34m)\u001b[0m\u001b[0;34m:\u001b[0m\u001b[0;34m\u001b[0m\u001b[0;34m\u001b[0m\u001b[0m\n",
      "\u001b[0;32m/opt/conda/lib/python3.7/urllib/request.py\u001b[0m in \u001b[0;36murlopen\u001b[0;34m(url, data, timeout, cafile, capath, cadefault, context)\u001b[0m\n\u001b[1;32m    220\u001b[0m     \u001b[0;32melse\u001b[0m\u001b[0;34m:\u001b[0m\u001b[0;34m\u001b[0m\u001b[0;34m\u001b[0m\u001b[0m\n\u001b[1;32m    221\u001b[0m         \u001b[0mopener\u001b[0m \u001b[0;34m=\u001b[0m \u001b[0m_opener\u001b[0m\u001b[0;34m\u001b[0m\u001b[0;34m\u001b[0m\u001b[0m\n\u001b[0;32m--> 222\u001b[0;31m     \u001b[0;32mreturn\u001b[0m \u001b[0mopener\u001b[0m\u001b[0;34m.\u001b[0m\u001b[0mopen\u001b[0m\u001b[0;34m(\u001b[0m\u001b[0murl\u001b[0m\u001b[0;34m,\u001b[0m \u001b[0mdata\u001b[0m\u001b[0;34m,\u001b[0m \u001b[0mtimeout\u001b[0m\u001b[0;34m)\u001b[0m\u001b[0;34m\u001b[0m\u001b[0;34m\u001b[0m\u001b[0m\n\u001b[0m\u001b[1;32m    223\u001b[0m \u001b[0;34m\u001b[0m\u001b[0m\n\u001b[1;32m    224\u001b[0m \u001b[0;32mdef\u001b[0m \u001b[0minstall_opener\u001b[0m\u001b[0;34m(\u001b[0m\u001b[0mopener\u001b[0m\u001b[0;34m)\u001b[0m\u001b[0;34m:\u001b[0m\u001b[0;34m\u001b[0m\u001b[0;34m\u001b[0m\u001b[0m\n",
      "\u001b[0;32m/opt/conda/lib/python3.7/urllib/request.py\u001b[0m in \u001b[0;36mopen\u001b[0;34m(self, fullurl, data, timeout)\u001b[0m\n\u001b[1;32m    523\u001b[0m             \u001b[0mreq\u001b[0m \u001b[0;34m=\u001b[0m \u001b[0mmeth\u001b[0m\u001b[0;34m(\u001b[0m\u001b[0mreq\u001b[0m\u001b[0;34m)\u001b[0m\u001b[0;34m\u001b[0m\u001b[0;34m\u001b[0m\u001b[0m\n\u001b[1;32m    524\u001b[0m \u001b[0;34m\u001b[0m\u001b[0m\n\u001b[0;32m--> 525\u001b[0;31m         \u001b[0mresponse\u001b[0m \u001b[0;34m=\u001b[0m \u001b[0mself\u001b[0m\u001b[0;34m.\u001b[0m\u001b[0m_open\u001b[0m\u001b[0;34m(\u001b[0m\u001b[0mreq\u001b[0m\u001b[0;34m,\u001b[0m \u001b[0mdata\u001b[0m\u001b[0;34m)\u001b[0m\u001b[0;34m\u001b[0m\u001b[0;34m\u001b[0m\u001b[0m\n\u001b[0m\u001b[1;32m    526\u001b[0m \u001b[0;34m\u001b[0m\u001b[0m\n\u001b[1;32m    527\u001b[0m         \u001b[0;31m# post-process response\u001b[0m\u001b[0;34m\u001b[0m\u001b[0;34m\u001b[0m\u001b[0;34m\u001b[0m\u001b[0m\n",
      "\u001b[0;32m/opt/conda/lib/python3.7/urllib/request.py\u001b[0m in \u001b[0;36m_open\u001b[0;34m(self, req, data)\u001b[0m\n\u001b[1;32m    541\u001b[0m         \u001b[0mprotocol\u001b[0m \u001b[0;34m=\u001b[0m \u001b[0mreq\u001b[0m\u001b[0;34m.\u001b[0m\u001b[0mtype\u001b[0m\u001b[0;34m\u001b[0m\u001b[0;34m\u001b[0m\u001b[0m\n\u001b[1;32m    542\u001b[0m         result = self._call_chain(self.handle_open, protocol, protocol +\n\u001b[0;32m--> 543\u001b[0;31m                                   '_open', req)\n\u001b[0m\u001b[1;32m    544\u001b[0m         \u001b[0;32mif\u001b[0m \u001b[0mresult\u001b[0m\u001b[0;34m:\u001b[0m\u001b[0;34m\u001b[0m\u001b[0;34m\u001b[0m\u001b[0m\n\u001b[1;32m    545\u001b[0m             \u001b[0;32mreturn\u001b[0m \u001b[0mresult\u001b[0m\u001b[0;34m\u001b[0m\u001b[0;34m\u001b[0m\u001b[0m\n",
      "\u001b[0;32m/opt/conda/lib/python3.7/urllib/request.py\u001b[0m in \u001b[0;36m_call_chain\u001b[0;34m(self, chain, kind, meth_name, *args)\u001b[0m\n\u001b[1;32m    501\u001b[0m         \u001b[0;32mfor\u001b[0m \u001b[0mhandler\u001b[0m \u001b[0;32min\u001b[0m \u001b[0mhandlers\u001b[0m\u001b[0;34m:\u001b[0m\u001b[0;34m\u001b[0m\u001b[0;34m\u001b[0m\u001b[0m\n\u001b[1;32m    502\u001b[0m             \u001b[0mfunc\u001b[0m \u001b[0;34m=\u001b[0m \u001b[0mgetattr\u001b[0m\u001b[0;34m(\u001b[0m\u001b[0mhandler\u001b[0m\u001b[0;34m,\u001b[0m \u001b[0mmeth_name\u001b[0m\u001b[0;34m)\u001b[0m\u001b[0;34m\u001b[0m\u001b[0;34m\u001b[0m\u001b[0m\n\u001b[0;32m--> 503\u001b[0;31m             \u001b[0mresult\u001b[0m \u001b[0;34m=\u001b[0m \u001b[0mfunc\u001b[0m\u001b[0;34m(\u001b[0m\u001b[0;34m*\u001b[0m\u001b[0margs\u001b[0m\u001b[0;34m)\u001b[0m\u001b[0;34m\u001b[0m\u001b[0;34m\u001b[0m\u001b[0m\n\u001b[0m\u001b[1;32m    504\u001b[0m             \u001b[0;32mif\u001b[0m \u001b[0mresult\u001b[0m \u001b[0;32mis\u001b[0m \u001b[0;32mnot\u001b[0m \u001b[0;32mNone\u001b[0m\u001b[0;34m:\u001b[0m\u001b[0;34m\u001b[0m\u001b[0;34m\u001b[0m\u001b[0m\n\u001b[1;32m    505\u001b[0m                 \u001b[0;32mreturn\u001b[0m \u001b[0mresult\u001b[0m\u001b[0;34m\u001b[0m\u001b[0;34m\u001b[0m\u001b[0m\n",
      "\u001b[0;32m/opt/conda/lib/python3.7/urllib/request.py\u001b[0m in \u001b[0;36mhttps_open\u001b[0;34m(self, req)\u001b[0m\n\u001b[1;32m   1391\u001b[0m         \u001b[0;32mdef\u001b[0m \u001b[0mhttps_open\u001b[0m\u001b[0;34m(\u001b[0m\u001b[0mself\u001b[0m\u001b[0;34m,\u001b[0m \u001b[0mreq\u001b[0m\u001b[0;34m)\u001b[0m\u001b[0;34m:\u001b[0m\u001b[0;34m\u001b[0m\u001b[0;34m\u001b[0m\u001b[0m\n\u001b[1;32m   1392\u001b[0m             return self.do_open(http.client.HTTPSConnection, req,\n\u001b[0;32m-> 1393\u001b[0;31m                 context=self._context, check_hostname=self._check_hostname)\n\u001b[0m\u001b[1;32m   1394\u001b[0m \u001b[0;34m\u001b[0m\u001b[0m\n\u001b[1;32m   1395\u001b[0m         \u001b[0mhttps_request\u001b[0m \u001b[0;34m=\u001b[0m \u001b[0mAbstractHTTPHandler\u001b[0m\u001b[0;34m.\u001b[0m\u001b[0mdo_request_\u001b[0m\u001b[0;34m\u001b[0m\u001b[0;34m\u001b[0m\u001b[0m\n",
      "\u001b[0;32m/opt/conda/lib/python3.7/urllib/request.py\u001b[0m in \u001b[0;36mdo_open\u001b[0;34m(self, http_class, req, **http_conn_args)\u001b[0m\n\u001b[1;32m   1350\u001b[0m                           encode_chunked=req.has_header('Transfer-encoding'))\n\u001b[1;32m   1351\u001b[0m             \u001b[0;32mexcept\u001b[0m \u001b[0mOSError\u001b[0m \u001b[0;32mas\u001b[0m \u001b[0merr\u001b[0m\u001b[0;34m:\u001b[0m \u001b[0;31m# timeout error\u001b[0m\u001b[0;34m\u001b[0m\u001b[0;34m\u001b[0m\u001b[0m\n\u001b[0;32m-> 1352\u001b[0;31m                 \u001b[0;32mraise\u001b[0m \u001b[0mURLError\u001b[0m\u001b[0;34m(\u001b[0m\u001b[0merr\u001b[0m\u001b[0;34m)\u001b[0m\u001b[0;34m\u001b[0m\u001b[0;34m\u001b[0m\u001b[0m\n\u001b[0m\u001b[1;32m   1353\u001b[0m             \u001b[0mr\u001b[0m \u001b[0;34m=\u001b[0m \u001b[0mh\u001b[0m\u001b[0;34m.\u001b[0m\u001b[0mgetresponse\u001b[0m\u001b[0;34m(\u001b[0m\u001b[0;34m)\u001b[0m\u001b[0;34m\u001b[0m\u001b[0;34m\u001b[0m\u001b[0m\n\u001b[1;32m   1354\u001b[0m         \u001b[0;32mexcept\u001b[0m\u001b[0;34m:\u001b[0m\u001b[0;34m\u001b[0m\u001b[0;34m\u001b[0m\u001b[0m\n",
      "\u001b[0;31mURLError\u001b[0m: <urlopen error [Errno -3] Temporary failure in name resolution>"
     ]
    }
   ],
   "source": [
    "# import models for ensembling\n",
    "num_models=3 # i plan to do 2 of each type resnet, MobileNet V2,VGG-19 with batch normalization\n",
    "models_list=[models.shufflenet_v2_x0_5(pretrained=True),models.resnet18(pretrained=True),models.googlenet(pretrained=True)]\n",
    "models_list=models_list"
   ]
  },
  {
   "cell_type": "code",
   "execution_count": 7,
   "id": "twenty-alexander",
   "metadata": {
    "execution": {
     "iopub.execute_input": "2021-05-30T10:51:28.530282Z",
     "iopub.status.busy": "2021-05-30T10:51:28.529709Z",
     "iopub.status.idle": "2021-05-30T10:51:28.534666Z",
     "shell.execute_reply": "2021-05-30T10:51:28.535054Z",
     "shell.execute_reply.started": "2021-05-30T08:46:18.099791Z"
    },
    "papermill": {
     "duration": 0.029259,
     "end_time": "2021-05-30T10:51:28.535218",
     "exception": false,
     "start_time": "2021-05-30T10:51:28.505959",
     "status": "completed"
    },
    "tags": []
   },
   "outputs": [
    {
     "ename": "NameError",
     "evalue": "name 'models_list' is not defined",
     "output_type": "error",
     "traceback": [
      "\u001b[0;31m---------------------------------------------------------------------------\u001b[0m",
      "\u001b[0;31mNameError\u001b[0m                                 Traceback (most recent call last)",
      "\u001b[0;32m<ipython-input-7-aa56eee641eb>\u001b[0m in \u001b[0;36m<module>\u001b[0;34m\u001b[0m\n\u001b[1;32m      1\u001b[0m \u001b[0;31m# modify last layer\u001b[0m\u001b[0;34m\u001b[0m\u001b[0;34m\u001b[0m\u001b[0;34m\u001b[0m\u001b[0m\n\u001b[0;32m----> 2\u001b[0;31m \u001b[0;32mfor\u001b[0m \u001b[0mmodel\u001b[0m \u001b[0;32min\u001b[0m \u001b[0mmodels_list\u001b[0m\u001b[0;34m:\u001b[0m\u001b[0;34m\u001b[0m\u001b[0;34m\u001b[0m\u001b[0m\n\u001b[0m\u001b[1;32m      3\u001b[0m     \u001b[0min_ft\u001b[0m \u001b[0;34m=\u001b[0m \u001b[0mmodel\u001b[0m\u001b[0;34m.\u001b[0m\u001b[0mfc\u001b[0m\u001b[0;34m.\u001b[0m\u001b[0min_features\u001b[0m\u001b[0;34m\u001b[0m\u001b[0;34m\u001b[0m\u001b[0m\n\u001b[1;32m      4\u001b[0m     \u001b[0mmodel\u001b[0m\u001b[0;34m.\u001b[0m\u001b[0mfc\u001b[0m \u001b[0;34m=\u001b[0m \u001b[0mnn\u001b[0m\u001b[0;34m.\u001b[0m\u001b[0mLinear\u001b[0m\u001b[0;34m(\u001b[0m\u001b[0min_ft\u001b[0m\u001b[0;34m,\u001b[0m\u001b[0;36m5\u001b[0m\u001b[0;34m)\u001b[0m\u001b[0;34m\u001b[0m\u001b[0;34m\u001b[0m\u001b[0m\n\u001b[1;32m      5\u001b[0m     \u001b[0mmodel\u001b[0m\u001b[0;34m.\u001b[0m\u001b[0mto\u001b[0m\u001b[0;34m(\u001b[0m\u001b[0mdevice\u001b[0m\u001b[0;34m)\u001b[0m\u001b[0;34m\u001b[0m\u001b[0;34m\u001b[0m\u001b[0m\n",
      "\u001b[0;31mNameError\u001b[0m: name 'models_list' is not defined"
     ]
    }
   ],
   "source": [
    "# modify last layer\n",
    "for model in models_list:\n",
    "    in_ft = model.fc.in_features\n",
    "    model.fc = nn.Linear(in_ft,5)\n",
    "    model.to(device)"
   ]
  },
  {
   "cell_type": "code",
   "execution_count": 8,
   "id": "intelligent-springfield",
   "metadata": {
    "execution": {
     "iopub.execute_input": "2021-05-30T10:51:28.567193Z",
     "iopub.status.busy": "2021-05-30T10:51:28.566453Z",
     "iopub.status.idle": "2021-05-30T10:51:28.570863Z",
     "shell.execute_reply": "2021-05-30T10:51:28.570486Z",
     "shell.execute_reply.started": "2021-05-30T08:46:22.25898Z"
    },
    "papermill": {
     "duration": 0.021801,
     "end_time": "2021-05-30T10:51:28.570962",
     "exception": false,
     "start_time": "2021-05-30T10:51:28.549161",
     "status": "completed"
    },
    "tags": []
   },
   "outputs": [],
   "source": [
    "# make 9 splits of train_data\n",
    "training_splits=random_split(train_data, [int(len(train_data)/3) for i in range(2)]+[int(len(train_data)/3)], generator=torch.Generator().manual_seed(42))"
   ]
  },
  {
   "cell_type": "code",
   "execution_count": 9,
   "id": "present-words",
   "metadata": {
    "execution": {
     "iopub.execute_input": "2021-05-30T10:51:28.602556Z",
     "iopub.status.busy": "2021-05-30T10:51:28.601941Z",
     "iopub.status.idle": "2021-05-30T10:51:28.605448Z",
     "shell.execute_reply": "2021-05-30T10:51:28.606012Z",
     "shell.execute_reply.started": "2021-05-30T08:46:22.267021Z"
    },
    "papermill": {
     "duration": 0.021472,
     "end_time": "2021-05-30T10:51:28.606178",
     "exception": false,
     "start_time": "2021-05-30T10:51:28.584706",
     "status": "completed"
    },
    "tags": []
   },
   "outputs": [
    {
     "name": "stdout",
     "output_type": "stream",
     "text": [
      "[<torch.utils.data.dataloader.DataLoader object at 0x7f3626ebbb50>, <torch.utils.data.dataloader.DataLoader object at 0x7f3626ebbc10>, <torch.utils.data.dataloader.DataLoader object at 0x7f3626ebbcd0>]\n"
     ]
    }
   ],
   "source": [
    "split_dataloaders=[]\n",
    "for split in training_splits:\n",
    "    dataloader_split=DataLoader(dataset=split,batch_size=16,shuffle=True)\n",
    "    split_dataloaders.append(dataloader_split)\n",
    "print(split_dataloaders)"
   ]
  },
  {
   "cell_type": "code",
   "execution_count": 10,
   "id": "pretty-figure",
   "metadata": {
    "execution": {
     "iopub.execute_input": "2021-05-30T10:51:28.644340Z",
     "iopub.status.busy": "2021-05-30T10:51:28.643695Z",
     "iopub.status.idle": "2021-05-30T10:51:28.646481Z",
     "shell.execute_reply": "2021-05-30T10:51:28.646063Z",
     "shell.execute_reply.started": "2021-05-30T09:02:12.590773Z"
    },
    "papermill": {
     "duration": 0.025506,
     "end_time": "2021-05-30T10:51:28.646591",
     "exception": false,
     "start_time": "2021-05-30T10:51:28.621085",
     "status": "completed"
    },
    "tags": []
   },
   "outputs": [],
   "source": [
    "\n",
    "\n",
    "def train(epoch,model,dataloader): \n",
    "    model.train()\n",
    "    optimizer = optim.Adam(model.parameters(),lr=0.001,betas=(0.9,0.999))\n",
    "    losss=nn.CrossEntropyLoss()\n",
    "    viz=[]\n",
    "    for batch_idx,(data,label) in enumerate(dataloader):\n",
    "        \n",
    "        data,label=data.to(device),label.to(device)\n",
    "        \n",
    "        optimizer.zero_grad()\n",
    "        output=model(data)\n",
    "\n",
    "        # we use nll loss becuase we have added logsoftmax layer , or else we would have used cross entropy which combines both\n",
    "        loss=losss(output,label)\n",
    "        viz.append([batch_idx,loss])\n",
    "        loss.backward()\n",
    "        optimizer.step()\n",
    "        \n",
    "        if batch_idx % 100 == 0:\n",
    "            print('Train Epoch: {} [{}/{} ({:.0f}%)]\\tLoss: {:.6f}'.format(\n",
    "                    epoch, batch_idx * len(data), len(dataloader.dataset),\n",
    "                    100. * batch_idx / len(dataloader), loss.item()))\n",
    "    return viz\n",
    "\n",
    "def test(model,dataloader):\n",
    "    model.eval()\n",
    "    with torch.set_grad_enabled(False):\n",
    "        size = len(dataloader.dataset)\n",
    "        pred_correct=0\n",
    "        for batch_id,(data,label) in enumerate(dataloader):\n",
    "            data,label=data.to(device),label.to(device)\n",
    "            output=model(data)\n",
    "            pred_correct += (label == torch.argmax(output,dim=1)).sum()\n",
    "  \n",
    "    print('the accuracy is {}'.format(pred_correct*100/size))\n",
    "  "
   ]
  },
  {
   "cell_type": "code",
   "execution_count": 11,
   "id": "surrounded-giving",
   "metadata": {
    "execution": {
     "iopub.execute_input": "2021-05-30T10:51:28.686409Z",
     "iopub.status.busy": "2021-05-30T10:51:28.684169Z",
     "iopub.status.idle": "2021-05-30T10:51:28.690190Z",
     "shell.execute_reply": "2021-05-30T10:51:28.689778Z",
     "shell.execute_reply.started": "2021-05-30T09:02:14.4736Z"
    },
    "papermill": {
     "duration": 0.02976,
     "end_time": "2021-05-30T10:51:28.690294",
     "exception": false,
     "start_time": "2021-05-30T10:51:28.660534",
     "status": "completed"
    },
    "tags": []
   },
   "outputs": [
    {
     "ename": "NameError",
     "evalue": "name 'models_list' is not defined",
     "output_type": "error",
     "traceback": [
      "\u001b[0;31m---------------------------------------------------------------------------\u001b[0m",
      "\u001b[0;31mNameError\u001b[0m                                 Traceback (most recent call last)",
      "\u001b[0;32m<ipython-input-11-d78cfb99460e>\u001b[0m in \u001b[0;36m<module>\u001b[0;34m\u001b[0m\n\u001b[1;32m      1\u001b[0m \u001b[0;31m# time to train ensemble\u001b[0m\u001b[0;34m\u001b[0m\u001b[0;34m\u001b[0m\u001b[0;34m\u001b[0m\u001b[0m\n\u001b[1;32m      2\u001b[0m \u001b[0;32mfor\u001b[0m \u001b[0mepoch\u001b[0m \u001b[0;32min\u001b[0m \u001b[0mrange\u001b[0m\u001b[0;34m(\u001b[0m\u001b[0;36m0\u001b[0m\u001b[0;34m,\u001b[0m\u001b[0;36m5\u001b[0m\u001b[0;34m)\u001b[0m\u001b[0;34m:\u001b[0m\u001b[0;34m\u001b[0m\u001b[0;34m\u001b[0m\u001b[0m\n\u001b[0;32m----> 3\u001b[0;31m     \u001b[0;32mfor\u001b[0m \u001b[0mi\u001b[0m \u001b[0;32min\u001b[0m \u001b[0mrange\u001b[0m\u001b[0;34m(\u001b[0m\u001b[0mlen\u001b[0m\u001b[0;34m(\u001b[0m\u001b[0mmodels_list\u001b[0m\u001b[0;34m)\u001b[0m\u001b[0;34m)\u001b[0m\u001b[0;34m:\u001b[0m\u001b[0;34m\u001b[0m\u001b[0;34m\u001b[0m\u001b[0m\n\u001b[0m\u001b[1;32m      4\u001b[0m         \u001b[0mviz\u001b[0m\u001b[0;34m=\u001b[0m\u001b[0mtrain\u001b[0m\u001b[0;34m(\u001b[0m\u001b[0mepoch\u001b[0m\u001b[0;34m,\u001b[0m\u001b[0mmodels_list\u001b[0m\u001b[0;34m[\u001b[0m\u001b[0mi\u001b[0m\u001b[0;34m]\u001b[0m\u001b[0;34m,\u001b[0m\u001b[0msplit_dataloaders\u001b[0m\u001b[0;34m[\u001b[0m\u001b[0mi\u001b[0m\u001b[0;34m]\u001b[0m\u001b[0;34m)\u001b[0m\u001b[0;34m\u001b[0m\u001b[0;34m\u001b[0m\u001b[0m\n\u001b[1;32m      5\u001b[0m         \u001b[0mplt\u001b[0m\u001b[0;34m.\u001b[0m\u001b[0mplot\u001b[0m\u001b[0;34m(\u001b[0m\u001b[0;34m[\u001b[0m\u001b[0mi\u001b[0m\u001b[0;34m[\u001b[0m\u001b[0;36m0\u001b[0m\u001b[0;34m]\u001b[0m \u001b[0;32mfor\u001b[0m \u001b[0mi\u001b[0m \u001b[0;32min\u001b[0m \u001b[0mviz\u001b[0m\u001b[0;34m]\u001b[0m\u001b[0;34m,\u001b[0m\u001b[0;34m[\u001b[0m\u001b[0mi\u001b[0m\u001b[0;34m[\u001b[0m\u001b[0;36m1\u001b[0m\u001b[0;34m]\u001b[0m \u001b[0;32mfor\u001b[0m \u001b[0mi\u001b[0m \u001b[0;32min\u001b[0m \u001b[0mviz\u001b[0m\u001b[0;34m]\u001b[0m\u001b[0;34m)\u001b[0m\u001b[0;34m\u001b[0m\u001b[0;34m\u001b[0m\u001b[0m\n",
      "\u001b[0;31mNameError\u001b[0m: name 'models_list' is not defined"
     ]
    }
   ],
   "source": [
    "# time to train ensemble\n",
    "for epoch in range(0,5):\n",
    "    for i in range(len(models_list)):\n",
    "        viz=train(epoch,models_list[i],split_dataloaders[i])\n",
    "        plt.plot([i[0] for i in viz],[i[1] for i in viz])\n",
    "        plt.show()\n",
    "        "
   ]
  },
  {
   "cell_type": "code",
   "execution_count": 12,
   "id": "aware-ottawa",
   "metadata": {
    "execution": {
     "iopub.execute_input": "2021-05-30T10:51:28.725071Z",
     "iopub.status.busy": "2021-05-30T10:51:28.724429Z",
     "iopub.status.idle": "2021-05-30T10:51:28.726686Z",
     "shell.execute_reply": "2021-05-30T10:51:28.727131Z",
     "shell.execute_reply.started": "2021-05-30T09:17:10.158476Z"
    },
    "papermill": {
     "duration": 0.022602,
     "end_time": "2021-05-30T10:51:28.727243",
     "exception": false,
     "start_time": "2021-05-30T10:51:28.704641",
     "status": "completed"
    },
    "tags": []
   },
   "outputs": [],
   "source": [
    "def ensemble_test(models_list,test_dataloader):\n",
    "    size = len(test_dataloader.dataset)\n",
    "    pred_correct=0\n",
    "    for model in models_list:\n",
    "        model.eval()\n",
    "        \n",
    "    with torch.set_grad_enabled(False):\n",
    "        for batch_id,(data,label) in enumerate(test_dataloader):\n",
    "            onehot=torch.zeros(len(label),5)\n",
    "            data,label,onehot=data.to(device),label.to(device),onehot.to(device)\n",
    "            for model in models_list:\n",
    "                output=model(data)\n",
    "                #predicted_labels=torch.argmax(output,dim=1).to(device)\n",
    "                #onehot+=torch.nn.functional.one_hot(predicted_labels,5)\n",
    "                onehot+= output\n",
    "            batch_pred=torch.argmax(onehot,dim=1)\n",
    "            pred_correct += (label == batch_pred).sum()\n",
    "        print('accuaracy on the test set for model ensemble is {}'.format(pred_correct*100/size))            "
   ]
  },
  {
   "cell_type": "code",
   "execution_count": 13,
   "id": "bearing-wilderness",
   "metadata": {
    "execution": {
     "iopub.execute_input": "2021-05-30T10:51:28.765273Z",
     "iopub.status.busy": "2021-05-30T10:51:28.761435Z",
     "iopub.status.idle": "2021-05-30T10:51:28.768773Z",
     "shell.execute_reply": "2021-05-30T10:51:28.768388Z",
     "shell.execute_reply.started": "2021-05-30T09:17:10.808206Z"
    },
    "papermill": {
     "duration": 0.027363,
     "end_time": "2021-05-30T10:51:28.768872",
     "exception": false,
     "start_time": "2021-05-30T10:51:28.741509",
     "status": "completed"
    },
    "tags": []
   },
   "outputs": [
    {
     "ename": "NameError",
     "evalue": "name 'models_list' is not defined",
     "output_type": "error",
     "traceback": [
      "\u001b[0;31m---------------------------------------------------------------------------\u001b[0m",
      "\u001b[0;31mNameError\u001b[0m                                 Traceback (most recent call last)",
      "\u001b[0;32m<ipython-input-13-306f353dc46d>\u001b[0m in \u001b[0;36m<module>\u001b[0;34m\u001b[0m\n\u001b[0;32m----> 1\u001b[0;31m \u001b[0mensemble_test\u001b[0m\u001b[0;34m(\u001b[0m\u001b[0mmodels_list\u001b[0m\u001b[0;34m,\u001b[0m\u001b[0mtest_dataloader\u001b[0m\u001b[0;34m)\u001b[0m\u001b[0;34m\u001b[0m\u001b[0;34m\u001b[0m\u001b[0m\n\u001b[0m",
      "\u001b[0;31mNameError\u001b[0m: name 'models_list' is not defined"
     ]
    }
   ],
   "source": [
    "ensemble_test(models_list,test_dataloader)"
   ]
  },
  {
   "cell_type": "code",
   "execution_count": 14,
   "id": "prescribed-skiing",
   "metadata": {
    "execution": {
     "iopub.execute_input": "2021-05-30T10:51:28.805608Z",
     "iopub.status.busy": "2021-05-30T10:51:28.804918Z",
     "iopub.status.idle": "2021-05-30T10:51:28.807547Z",
     "shell.execute_reply": "2021-05-30T10:51:28.807163Z",
     "shell.execute_reply.started": "2021-05-30T09:28:36.713202Z"
    },
    "papermill": {
     "duration": 0.024169,
     "end_time": "2021-05-30T10:51:28.807656",
     "exception": false,
     "start_time": "2021-05-30T10:51:28.783487",
     "status": "completed"
    },
    "tags": []
   },
   "outputs": [],
   "source": [
    "class testImageDataset(Dataset): # submission\n",
    "    def __init__(self, img_dir, transform=Compose([Resize((256,256)),RandomResizedCrop(224),ConvertImageDtype(dtype=torch.float),Normalize([0.485, 0.456, 0.406], [0.229, 0.224, 0.225])\n",
    "]), target_transform=None):\n",
    "       # self.img_labels = pd.read_csv(annotations_file)\n",
    "        self.img_dir = img_dir\n",
    "        self.transform = transform\n",
    "        self.target_transform = target_transform\n",
    "        self.name_list=[]\n",
    "        for dirname, _, filenames in os.walk(img_dir):\n",
    "            for filename in filenames:\n",
    "                self.name_list.append(filename)\n",
    "        \n",
    "    def __len__(self):\n",
    "        return len(self.name_list)\n",
    "\n",
    "    def __getitem__(self, idx):\n",
    "        img_path = os.path.join(self.img_dir, self.name_list[idx])\n",
    "        image = read_image(img_path)\n",
    "        #label = self.img_labels.iloc[idx, 1]\n",
    "        if self.transform:\n",
    "            image = self.transform(image)\n",
    "        if self.target_transform:\n",
    "            label = self.target_transform(label)\n",
    "        #sample = {\"image\": image, \"label\": label}\n",
    "        return image,self.name_list[idx]\n"
   ]
  },
  {
   "cell_type": "code",
   "execution_count": 15,
   "id": "threaded-samba",
   "metadata": {
    "execution": {
     "iopub.execute_input": "2021-05-30T10:51:28.843715Z",
     "iopub.status.busy": "2021-05-30T10:51:28.843007Z",
     "iopub.status.idle": "2021-05-30T10:51:28.845319Z",
     "shell.execute_reply": "2021-05-30T10:51:28.845723Z",
     "shell.execute_reply.started": "2021-05-30T09:31:03.035834Z"
    },
    "papermill": {
     "duration": 0.023477,
     "end_time": "2021-05-30T10:51:28.845835",
     "exception": false,
     "start_time": "2021-05-30T10:51:28.822358",
     "status": "completed"
    },
    "tags": []
   },
   "outputs": [],
   "source": [
    "def ensemble_sub(models_list,test_dataloader):\n",
    "    size = len(test_dataloader.dataset)\n",
    "    pred_correct=0\n",
    "    for model in models_list:\n",
    "        model.eval()\n",
    "    df = pd.DataFrame(columns=['image_id','label'])\n",
    "    with torch.set_grad_enabled(False):\n",
    "        for batch_id,(data,img_path) in enumerate(test_dataloader):\n",
    "            onehot=torch.zeros(len(img_path),5)\n",
    "            data,onehot=data.to(device),onehot.to(device)\n",
    "            for model in models_list:\n",
    "                output=model(data)\n",
    "                #predicted_labels=torch.argmax(output,dim=1).to(device)\n",
    "                #onehot+=torch.nn.functional.one_hot(predicted_labels,5)\n",
    "                onehot+= output\n",
    "            batch_pred=torch.argmax(onehot,dim=1)\n",
    "            #print(img_path[0])\n",
    "            for i in range(len(img_path)):\n",
    "                df=df.append({'image_id':str(img_path[i]),'label':int(batch_pred[i].item())},ignore_index=True)\n",
    "            #pred_correct += (label == batch_pred).sum()\n",
    "    return df"
   ]
  },
  {
   "cell_type": "code",
   "execution_count": 16,
   "id": "reverse-relationship",
   "metadata": {
    "execution": {
     "iopub.execute_input": "2021-05-30T10:51:28.878922Z",
     "iopub.status.busy": "2021-05-30T10:51:28.878439Z",
     "iopub.status.idle": "2021-05-30T10:51:28.892726Z",
     "shell.execute_reply": "2021-05-30T10:51:28.893167Z",
     "shell.execute_reply.started": "2021-05-30T09:31:19.090163Z"
    },
    "papermill": {
     "duration": 0.0328,
     "end_time": "2021-05-30T10:51:28.893285",
     "exception": false,
     "start_time": "2021-05-30T10:51:28.860485",
     "status": "completed"
    },
    "tags": []
   },
   "outputs": [
    {
     "ename": "NameError",
     "evalue": "name 'models_list' is not defined",
     "output_type": "error",
     "traceback": [
      "\u001b[0;31m---------------------------------------------------------------------------\u001b[0m",
      "\u001b[0;31mNameError\u001b[0m                                 Traceback (most recent call last)",
      "\u001b[0;32m<ipython-input-16-e5326ea77c30>\u001b[0m in \u001b[0;36m<module>\u001b[0;34m\u001b[0m\n\u001b[1;32m      1\u001b[0m \u001b[0mtest_sub\u001b[0m\u001b[0;34m=\u001b[0m\u001b[0mtestImageDataset\u001b[0m\u001b[0;34m(\u001b[0m\u001b[0;34m'../input/cassava-leaf-disease-classification/test_images'\u001b[0m\u001b[0;34m)\u001b[0m\u001b[0;34m\u001b[0m\u001b[0;34m\u001b[0m\u001b[0m\n\u001b[1;32m      2\u001b[0m \u001b[0msub_dataloader\u001b[0m\u001b[0;34m=\u001b[0m\u001b[0mDataLoader\u001b[0m\u001b[0;34m(\u001b[0m\u001b[0mdataset\u001b[0m\u001b[0;34m=\u001b[0m\u001b[0mtest_sub\u001b[0m\u001b[0;34m,\u001b[0m\u001b[0mbatch_size\u001b[0m\u001b[0;34m=\u001b[0m\u001b[0;36m16\u001b[0m\u001b[0;34m,\u001b[0m\u001b[0mshuffle\u001b[0m\u001b[0;34m=\u001b[0m\u001b[0;32mFalse\u001b[0m\u001b[0;34m)\u001b[0m\u001b[0;34m\u001b[0m\u001b[0;34m\u001b[0m\u001b[0m\n\u001b[0;32m----> 3\u001b[0;31m \u001b[0mdf\u001b[0m\u001b[0;34m=\u001b[0m\u001b[0mensemble_sub\u001b[0m\u001b[0;34m(\u001b[0m\u001b[0mmodels_list\u001b[0m\u001b[0;34m,\u001b[0m\u001b[0msub_dataloader\u001b[0m\u001b[0;34m)\u001b[0m\u001b[0;34m\u001b[0m\u001b[0;34m\u001b[0m\u001b[0m\n\u001b[0m\u001b[1;32m      4\u001b[0m \u001b[0mdf\u001b[0m\u001b[0;34m.\u001b[0m\u001b[0mto_csv\u001b[0m\u001b[0;34m(\u001b[0m\u001b[0;34m'submission.csv'\u001b[0m\u001b[0;34m,\u001b[0m\u001b[0mindex_label\u001b[0m\u001b[0;34m=\u001b[0m\u001b[0;32mFalse\u001b[0m\u001b[0;34m)\u001b[0m\u001b[0;34m\u001b[0m\u001b[0;34m\u001b[0m\u001b[0m\n",
      "\u001b[0;31mNameError\u001b[0m: name 'models_list' is not defined"
     ]
    }
   ],
   "source": [
    "test_sub=testImageDataset('../input/cassava-leaf-disease-classification/test_images')\n",
    "sub_dataloader=DataLoader(dataset=test_sub,batch_size=16,shuffle=False)\n",
    "df=ensemble_sub(models_list,sub_dataloader)\n",
    "df.to_csv('submission.csv',index_label=False)"
   ]
  },
  {
   "cell_type": "code",
   "execution_count": null,
   "id": "australian-immune",
   "metadata": {
    "papermill": {
     "duration": 0.014921,
     "end_time": "2021-05-30T10:51:28.923854",
     "exception": false,
     "start_time": "2021-05-30T10:51:28.908933",
     "status": "completed"
    },
    "tags": []
   },
   "outputs": [],
   "source": []
  },
  {
   "cell_type": "code",
   "execution_count": null,
   "id": "surprising-aviation",
   "metadata": {
    "papermill": {
     "duration": 0.014797,
     "end_time": "2021-05-30T10:51:28.953744",
     "exception": false,
     "start_time": "2021-05-30T10:51:28.938947",
     "status": "completed"
    },
    "tags": []
   },
   "outputs": [],
   "source": []
  }
 ],
 "metadata": {
  "kernelspec": {
   "display_name": "Python 3",
   "language": "python",
   "name": "python3"
  },
  "language_info": {
   "codemirror_mode": {
    "name": "ipython",
    "version": 3
   },
   "file_extension": ".py",
   "mimetype": "text/x-python",
   "name": "python",
   "nbconvert_exporter": "python",
   "pygments_lexer": "ipython3",
   "version": "3.7.10"
  },
  "papermill": {
   "default_parameters": {},
   "duration": 47.719095,
   "end_time": "2021-05-30T10:51:30.405075",
   "environment_variables": {},
   "exception": null,
   "input_path": "__notebook__.ipynb",
   "output_path": "__notebook__.ipynb",
   "parameters": {},
   "start_time": "2021-05-30T10:50:42.685980",
   "version": "2.3.3"
  }
 },
 "nbformat": 4,
 "nbformat_minor": 5
}
